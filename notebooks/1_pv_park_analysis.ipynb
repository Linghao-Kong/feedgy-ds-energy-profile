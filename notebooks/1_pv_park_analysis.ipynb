{
 "cells": [
  {
   "cell_type": "markdown",
   "metadata": {},
   "source": [
    "# Repository Name\n",
    "\n",
    "This repository is a demo repository showcasing various features and functionalities of GitHub.\n",
    "\n",
    "## Introduction\n",
    "\n",
    "Welcome to the GitHub Demo Repository! This repository serves as a demonstration of how to use GitHub for version control and collaboration. It includes examples of creating branches, making commits, opening pull requests, and more.\n",
    "\n",
    "## Features\n",
    "\n",
    "- Branching and merging\n",
    "- Committing changes\n",
    "- Opening and reviewing pull requests\n",
    "- Collaborating with team members\n",
    "- Managing issues and project boards\n",
    "\n",
    "## Getting Started\n",
    "\n",
    "To get started with this repository, simply clone it to your local machine and explore the different files and folders. You can also fork the repository to make your own changes and experiment with the various GitHub features.\n",
    "\n",
    "## Contributing\n",
    "\n",
    "If you would like to contribute to this repository, please follow the guidelines outlined in the CONTRIBUTING.md file. We welcome any bug fixes, feature enhancements, or documentation improvements.\n",
    "\n",
    "## License\n",
    "\n",
    "This repository is licensed under the MIT License. Please see the LICENSE file for more details.\n",
    "\n",
    "Happy coding!\n"
   ]
  },
  {
   "cell_type": "markdown",
   "metadata": {},
   "source": []
  },
  {
   "cell_type": "code",
   "execution_count": null,
   "metadata": {},
   "outputs": [],
   "source": [
    "from pathlib import Path\n",
    "\n",
    "import pandas as pd\n",
    "\n",
    "NOTEBOOKS_PATH = Path(__file__).parent\n",
    "LOCAL_DATA_PATH = Path.joinpath(NOTEBOOKS_PATH, \"data\")\n",
    "\n",
    "pv_parks = pd.read_csv(Path.joinpath(LOCAL_DATA_PATH, \"pv_parks.csv\"))"
   ]
  }
 ],
 "metadata": {
  "kernelspec": {
   "display_name": "feedgy-ds-repo-template-PXSCEz2o-py3.10",
   "language": "python",
   "name": "python3"
  },
  "language_info": {
   "codemirror_mode": {
    "name": "ipython",
    "version": 3
   },
   "file_extension": ".py",
   "mimetype": "text/x-python",
   "name": "python",
   "nbconvert_exporter": "python",
   "pygments_lexer": "ipython3",
   "version": "3.10.10"
  }
 },
 "nbformat": 4,
 "nbformat_minor": 2
}
